{
  "nbformat": 4,
  "nbformat_minor": 0,
  "metadata": {
    "colab": {
      "name": "Serial Number OCR Experiment.ipynb",
      "provenance": [],
      "authorship_tag": "ABX9TyOqRlHWo1AMcaMr6qPQDzBG",
      "include_colab_link": true
    },
    "kernelspec": {
      "name": "python3",
      "display_name": "Python 3"
    }
  },
  "cells": [
    {
      "cell_type": "markdown",
      "metadata": {
        "id": "view-in-github",
        "colab_type": "text"
      },
      "source": [
        "<a href=\"https://colab.research.google.com/github/LouisTomosEvans/OCR_Serial_Number_Experiment/blob/main/Serial_Number_OCR_Experiment.ipynb\" target=\"_parent\"><img src=\"https://colab.research.google.com/assets/colab-badge.svg\" alt=\"Open In Colab\"/></a>"
      ]
    },
    {
      "cell_type": "markdown",
      "metadata": {
        "id": "AkQObYSiihmu"
      },
      "source": [
        "***This google colab notebook is for the OCR serial number experiment***\r\n"
      ]
    }
  ]
}